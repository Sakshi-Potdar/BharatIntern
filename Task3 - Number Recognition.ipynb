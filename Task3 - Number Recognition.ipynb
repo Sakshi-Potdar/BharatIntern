{
 "cells": [
  {
   "cell_type": "markdown",
   "id": "6c19d0f3",
   "metadata": {},
   "source": [
    "# Handwritten number recognition"
   ]
  },
  {
   "cell_type": "code",
   "execution_count": 1,
   "id": "60f9ea04",
   "metadata": {},
   "outputs": [],
   "source": [
    "import tensorflow as tf\n",
    "from tensorflow.keras.datasets import mnist\n",
    "from tensorflow.keras.models import Sequential\n",
    "from tensorflow.keras.layers import Dense, Dropout, Flatten\n",
    "from tensorflow.keras.layers import Conv2D, MaxPooling2D"
   ]
  },
  {
   "cell_type": "markdown",
   "id": "39efac98",
   "metadata": {},
   "source": [
    "### Loading the data "
   ]
  },
  {
   "cell_type": "code",
   "execution_count": 2,
   "id": "80021075",
   "metadata": {},
   "outputs": [],
   "source": [
    "(x_train, y_train), (x_test, y_test) = mnist.load_data()"
   ]
  },
  {
   "cell_type": "code",
   "execution_count": 3,
   "id": "e8e536ba",
   "metadata": {},
   "outputs": [],
   "source": [
    "# Reshape the data to include the channel dimension\n",
    "x_train = x_train.reshape(x_train.shape[0], 28, 28, 1)\n",
    "x_test = x_test.reshape(x_test.shape[0], 28, 28, 1)\n",
    "\n",
    "# Normalize the pixel values to be between 0 and 1\n",
    "x_train = x_train.astype('float32')\n",
    "x_test = x_test.astype('float32')\n",
    "x_train /= 255\n",
    "x_test /= 255\n",
    "\n",
    "# Convert the labels to one-hot encoding\n",
    "y_train = tf.keras.utils.to_categorical(y_train, 10)\n",
    "y_test = tf.keras.utils.to_categorical(y_test, 10)"
   ]
  },
  {
   "cell_type": "code",
   "execution_count": 4,
   "id": "c667166d",
   "metadata": {},
   "outputs": [],
   "source": [
    "model = Sequential()\n",
    "model.add(Conv2D(32, kernel_size=(3, 3),\n",
    "                 activation='relu',\n",
    "                 input_shape=(28, 28, 1)))\n",
    "model.add(Conv2D(64, (3, 3), activation='relu'))\n",
    "model.add(MaxPooling2D(pool_size=(2, 2)))\n",
    "model.add(Dropout(0.25))\n",
    "model.add(Flatten())\n",
    "model.add(Dense(128, activation='relu'))\n",
    "model.add(Dropout(0.5))\n",
    "model.add(Dense(10,activation='softmax'))"
   ]
  },
  {
   "cell_type": "code",
   "execution_count": 5,
   "id": "9364dfcf",
   "metadata": {},
   "outputs": [],
   "source": [
    "# Compile the model\n",
    "model.compile(optimizer='adam',\n",
    "              loss='categorical_crossentropy',\n",
    "              metrics=['accuracy'])"
   ]
  },
  {
   "cell_type": "markdown",
   "id": "032cf7a5",
   "metadata": {},
   "source": [
    "### Training the model "
   ]
  },
  {
   "cell_type": "code",
   "execution_count": 6,
   "id": "4b64524b",
   "metadata": {},
   "outputs": [
    {
     "name": "stdout",
     "output_type": "stream",
     "text": [
      "Epoch 1/10\n",
      "938/938 [==============================] - 204s 215ms/step - loss: 0.2120 - accuracy: 0.9355 - val_loss: 0.0504 - val_accuracy: 0.9833\n",
      "Epoch 2/10\n",
      "938/938 [==============================] - 192s 205ms/step - loss: 0.0836 - accuracy: 0.9750 - val_loss: 0.0353 - val_accuracy: 0.9878\n",
      "Epoch 3/10\n",
      "938/938 [==============================] - 173s 184ms/step - loss: 0.0638 - accuracy: 0.9802 - val_loss: 0.0344 - val_accuracy: 0.9884\n",
      "Epoch 4/10\n",
      "938/938 [==============================] - 146s 155ms/step - loss: 0.0515 - accuracy: 0.9843 - val_loss: 0.0316 - val_accuracy: 0.9901\n",
      "Epoch 5/10\n",
      "938/938 [==============================] - 151s 161ms/step - loss: 0.0453 - accuracy: 0.9860 - val_loss: 0.0304 - val_accuracy: 0.9913\n",
      "Epoch 6/10\n",
      "938/938 [==============================] - 159s 169ms/step - loss: 0.0371 - accuracy: 0.9879 - val_loss: 0.0276 - val_accuracy: 0.9910\n",
      "Epoch 7/10\n",
      "938/938 [==============================] - 155s 166ms/step - loss: 0.0334 - accuracy: 0.9894 - val_loss: 0.0313 - val_accuracy: 0.9905\n",
      "Epoch 8/10\n",
      "938/938 [==============================] - 149s 158ms/step - loss: 0.0304 - accuracy: 0.9899 - val_loss: 0.0305 - val_accuracy: 0.9916\n",
      "Epoch 9/10\n",
      "938/938 [==============================] - 405s 432ms/step - loss: 0.0275 - accuracy: 0.9911 - val_loss: 0.0271 - val_accuracy: 0.9922\n",
      "Epoch 10/10\n",
      "938/938 [==============================] - 167s 178ms/step - loss: 0.0256 - accuracy: 0.9922 - val_loss: 0.0310 - val_accuracy: 0.9906\n"
     ]
    }
   ],
   "source": [
    "hist = model.fit(x_train, y_train, epochs=10, batch_size=64, validation_data=(x_test, y_test))"
   ]
  },
  {
   "cell_type": "markdown",
   "id": "3447468e",
   "metadata": {},
   "source": [
    "### Model Evaluation"
   ]
  },
  {
   "cell_type": "code",
   "execution_count": 7,
   "id": "7368204e",
   "metadata": {},
   "outputs": [
    {
     "name": "stdout",
     "output_type": "stream",
     "text": [
      "Test loss: 0.030999664217233658\n",
      "Test accuracy: 0.9905999898910522\n"
     ]
    }
   ],
   "source": [
    "score = model.evaluate(x_test, y_test, verbose=0)\n",
    "print('Test loss:', score[0])\n",
    "print('Test accuracy:', score[1])"
   ]
  },
  {
   "cell_type": "code",
   "execution_count": 8,
   "id": "b1fc2aa6",
   "metadata": {},
   "outputs": [
    {
     "data": {
      "image/png": "[encoded data removed]",
      "text/plain": [
       "<Figure size 432x288 with 1 Axes>"
      ]
     },
     "metadata": {
      "needs_background": "light"
     },
     "output_type": "display_data"
    }
   ],
   "source": [
    "import matplotlib.pyplot as plt\n",
    "\n",
    "# Plot the training and validation accuracy and loss\n",
    "plt.plot( hist.history['accuracy'], label='Accuracy')\n",
    "plt.plot(hist.history['val_accuracy'], label='Validation Accuracy')\n",
    "plt.title('Accuracy')\n",
    "plt.legend()\n",
    "plt.show()"
   ]
  },
  {
   "cell_type": "code",
   "execution_count": 9,
   "id": "82555f20",
   "metadata": {},
   "outputs": [
    {
     "data": {
      "image/png": "[encoded data removed]",
      "text/plain": [
       "<Figure size 432x288 with 1 Axes>"
      ]
     },
     "metadata": {
      "needs_background": "light"
     },
     "output_type": "display_data"
    }
   ],
   "source": [
    "plt.plot(hist.history['loss'], label='Loss')\n",
    "plt.plot(hist.history['val_loss'], label='Validation Loss')\n",
    "plt.title('Loss')\n",
    "plt.legend()\n",
    "plt.show()"
   ]
  },
  {
   "cell_type": "code",
   "execution_count": 10,
   "id": "47685092",
   "metadata": {},
   "outputs": [],
   "source": [
    "model.save('handwritten_num_recognition_model.h5')"
   ]
  },
  {
   "cell_type": "code",
   "execution_count": 11,
   "id": "a4e56827",
   "metadata": {},
   "outputs": [],
   "source": [
    "from tensorflow.keras.models import load_model\n",
    "from tensorflow.keras.preprocessing import image\n",
    "import numpy as np\n",
    "model = load_model('handwritten_num_recognition_model.h5')"
   ]
  },
  {
   "cell_type": "code",
   "execution_count": 12,
   "id": "5cc07a13",
   "metadata": {},
   "outputs": [],
   "source": [
    "def predict_img(imd_addr):\n",
    "    img_path = imd_addr\n",
    "    img = image.load_img(img_path, target_size=(28, 28), color_mode='grayscale')\n",
    "    img_array = image.img_to_array(img)\n",
    "    img_array = img_array / 255.0  # Normalize the pixel values to be in the range [0, 1]\n",
    "    img_array = np.expand_dims(img_array, axis=0)  # Add batch dimension\n",
    "    \n",
    "    predictions = model.predict(img_array)\n",
    "    predicted_digit = np.argmax(predictions)\n",
    "\n",
    "    print(f'Predicted Digit: {predicted_digit}')"
   ]
  },
  {
   "cell_type": "code",
   "execution_count": 13,
   "id": "e485f57b",
   "metadata": {},
   "outputs": [
    {
     "name": "stdout",
     "output_type": "stream",
     "text": [
      "1/1 [==============================] - 0s 345ms/step\n",
      "Predicted Digit: 0\n",
      "None\n"
     ]
    }
   ],
   "source": [
    "print(predict_img('image0.png'))"
   ]
  },
  {
   "cell_type": "code",
   "execution_count": 19,
   "id": "8a249e23",
   "metadata": {},
   "outputs": [
    {
     "name": "stdout",
     "output_type": "stream",
     "text": [
      "1/1 [==============================] - 0s 31ms/step\n",
      "Predicted Digit: 2\n",
      "None\n"
     ]
    }
   ],
   "source": [
    "print(predict_img('image2.png'))"
   ]
  },
  {
   "cell_type": "code",
   "execution_count": null,
   "id": "3ad491ba",
   "metadata": {},
   "outputs": [],
   "source": []
  }
 ],
 "metadata": {
  "kernelspec": {
   "display_name": "Python 3",
   "language": "python",
   "name": "python3"
  },
  "language_info": {
   "codemirror_mode": {
    "name": "ipython",
    "version": 3
   },
   "file_extension": ".py",
   "mimetype": "text/x-python",
   "name": "python",
   "nbconvert_exporter": "python",
   "pygments_lexer": "ipython3",
   "version": "3.8.8"
  }
 },
 "nbformat": 4,
 "nbformat_minor": 5
}
